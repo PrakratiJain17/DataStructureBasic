{
  "nbformat": 4,
  "nbformat_minor": 0,
  "metadata": {
    "colab": {
      "provenance": []
    },
    "kernelspec": {
      "name": "python3",
      "display_name": "Python 3"
    },
    "language_info": {
      "name": "python"
    }
  },
  "cells": [
    {
      "cell_type": "code",
      "execution_count": 3,
      "metadata": {
        "colab": {
          "base_uri": "https://localhost:8080/"
        },
        "id": "pUyHb4WKjI0f",
        "outputId": "87601375-3c84-497a-acfd-a7c3f447ced1"
      },
      "outputs": [
        {
          "output_type": "stream",
          "name": "stdout",
          "text": [
            "HELLO\n",
            "HELLO W\n",
            "WORLD\n",
            "HLOWRD\n",
            "DLROW\n",
            "DLROW OLLEH\n"
          ]
        }
      ],
      "source": [
        "# Q.1 Discuss string slicing and provide example\n",
        "# ANS: String slicing is a technique used to extract a portion of a string using a range of indices.\n",
        "#In Python, strings can be indexed both positively (from left to right) and negatively (from right to left) and both indexing can be used for slicing\n",
        "# SYNTAX: string[start:stop:step]\n",
        "# start: The beginning index of the slice (inclusive). If omitted, the default is 0.\n",
        "#stop: The ending index of the slice (exclusive). If omitted, the default is the length of the string.\n",
        "#step: The step between each index in the slice. If omitted, the default is 1.\n",
        "string1=\"HELLO WORLD\"\n",
        "print(string1[0:5]) # it is basic slicing in which we have given start and stop index and step will have by default value 1\n",
        "print(string1[:7]) #in this we have not given starting index so by default it will be 0\n",
        "print(string1[6:]) #in this we have not given  stop index so by default it will be equal to length of string\n",
        "print(string1[::2]) # in this we have only given step so it will have starting index and stop index by default as 0 and length of string respectively\n",
        "print(string1[-1:-6:-1]) # in this we have given negative index\n",
        "print(string1[::-1]) # this will reverse the string"
      ]
    },
    {
      "cell_type": "code",
      "source": [
        "# Q.2 Discuss the key features of list in Python\n",
        "# ANS: 1. Lists maintain the order of elements. The order in which elements are inserted is the order in which they are accessed.\n",
        "list1 = [1, 2, 3, 4]\n",
        "print(list1)\n",
        "\n",
        "#2. Lists are mutable i.e they can be modified after creation\n",
        "list1 = [1, 2, 3]\n",
        "list1[0] = 10\n",
        "print(list1)\n",
        "\n",
        "#3. Lists are heterogeneous i.e they contain elements of different types, including other lists.\n",
        "list1=[1,2,3,4.4,3+5j,\"Hii\",[1,2,3]]\n",
        "print(list1)\n",
        "\n",
        "#4. Elements in a list can be accessed using their index, starting from 0\n",
        "list1 = [1, 2, 3]\n",
        "print(list1[2])\n",
        "\n",
        "#5. We can do slicing in lists to retrieve its subpart\n",
        "list1=[0,1,2,3,4,5,6]\n",
        "print(list1[0:6:2])\n",
        "\n",
        "#6.Lists come with a variety of built-in methods for manipulating them, such as append(), extend(), remove(), pop(), sort(), reverse(), and more.\n",
        "list1=[1,4,2,5,7,3,0,23,16]\n",
        "list2=[\"apple\",\"mango\"]\n",
        "list1.append(17) # it will add 17 in the last\n",
        "print(list1)\n",
        "list1.extend(list2) #it will extend  list1\n",
        "print(list1)\n",
        "list1.remove(2) # it will remove 2 from the list\n",
        "print(list1)\n",
        "list1.pop() # it will remove last element\n",
        "list1.reverse() #it will reverse the list\n",
        "print(list1)\n",
        "\n",
        "#6. We can check if an element exists in a list using memebership operator (in ,not in keyword )\n",
        "list1=[6,10,12,17,26,24]\n",
        "17 in list1\n",
        "\n",
        "#7. we can iterate over a list using loops\n",
        "list1=[12,17,18,26,91]\n",
        "for i in list1:\n",
        "  print(i,end=\" \")"
      ],
      "metadata": {
        "colab": {
          "base_uri": "https://localhost:8080/"
        },
        "id": "ZBnkOLP8mn-C",
        "outputId": "1a02e18b-ada8-4862-af7d-ef60a5d9c303"
      },
      "execution_count": 13,
      "outputs": [
        {
          "output_type": "stream",
          "name": "stdout",
          "text": [
            "[1, 2, 3, 4]\n",
            "[10, 2, 3]\n",
            "[1, 2, 3, 4.4, (3+5j), 'Hii', [1, 2, 3]]\n",
            "3\n",
            "[0, 2, 4]\n",
            "[1, 4, 2, 5, 7, 3, 0, 23, 16, 17]\n",
            "[1, 4, 2, 5, 7, 3, 0, 23, 16, 17, 'apple', 'mango']\n",
            "[1, 4, 5, 7, 3, 0, 23, 16, 17, 'apple', 'mango']\n",
            "['apple', 17, 16, 23, 0, 3, 7, 5, 4, 1]\n",
            "12 17 18 26 91 "
          ]
        }
      ]
    },
    {
      "cell_type": "code",
      "source": [
        "#Q.3 Describe how to access, modify and delete elements in a list with examples\n",
        "#ANS: We can access elements in list using various ways\n",
        "# Accessing elements using index\n",
        "list1 = ['a', 'b', 'c', 'd']\n",
        "print(list1[0])\n",
        "print(list1[-3])\n",
        "# We can access a range of elements using slicing.\n",
        "list1 = ['a', 'b', 'c', 'd']\n",
        "print(list1[0:3])\n",
        "\n",
        "# We can modify our list using arious ways\n",
        "# By index\n",
        "list1=[1,2,3,'a','b','d']\n",
        "list1[2]=5\n",
        "print(list1)\n",
        "# By using list methods\n",
        "#append(): Add an element to the end of the list.\n",
        "list1=['a','b',1,2]\n",
        "list1.append(3)\n",
        "print(list1)\n",
        "#insert(): Insert an element at a specific position.\n",
        "list1=['a','b',1,2]\n",
        "list1.insert(2,'c')\n",
        "print(list1)\n",
        "\n",
        "# We can also delete elements in a list using various ways\n",
        "#Using del Statement : We can delete an element by its index or a range of elements using slicing.\n",
        "list1=['a','b',1,24,4]\n",
        "del list1[2]\n",
        "print(list1)\n",
        "# Using remove :Remove the first occurrence of a value.\n",
        "list1=['a','b',1,24,4,'a']\n",
        "list1.remove('a')\n",
        "print(list1)\n",
        "# Using pop : Remove an element by its index and return it. If no index is specified, pop() removes and returns the last element.\n",
        "list1=['a','b',1,24,4,'a']\n",
        "list1.pop()"
      ],
      "metadata": {
        "colab": {
          "base_uri": "https://localhost:8080/",
          "height": 174
        },
        "id": "G7xqnmlTqXdq",
        "outputId": "41ed84a8-99c7-4cc9-9b0b-6121927d5452"
      },
      "execution_count": 17,
      "outputs": [
        {
          "output_type": "stream",
          "name": "stdout",
          "text": [
            "a\n",
            "b\n",
            "['a', 'b', 'c']\n",
            "[1, 2, 5, 'a', 'b', 'd']\n",
            "['a', 'b', 1, 2, 3]\n",
            "['a', 'b', 'c', 1, 2]\n",
            "['a', 'b', 24, 4]\n",
            "['b', 1, 24, 4, 'a']\n"
          ]
        },
        {
          "output_type": "execute_result",
          "data": {
            "text/plain": [
              "'a'"
            ],
            "application/vnd.google.colaboratory.intrinsic+json": {
              "type": "string"
            }
          },
          "metadata": {},
          "execution_count": 17
        }
      ]
    },
    {
      "cell_type": "code",
      "source": [
        "#Q.4 Compare and contrast tuples and lists with examples\n",
        "#ANS: TUPLES\n",
        "# 1. Tuples are immutable once created cannot be altered\n",
        "# 2. Tuples are defined using parentheses ()\n",
        "# 3. Tuples are used when the data should not be changed, ensuring data integrity.\n",
        "# 4. Tuples have fewer methods available because they are immutable.\n",
        "tup1=(1,3,4,8,0)\n",
        "print(tup1)\n",
        "\n",
        "#LISTS:\n",
        "# 1.Lists are mutable they can be altered after their creation\n",
        "# 2.Lists are defined using square brackets []\n",
        "# 3.Lists are used when data needs to be updated frequently\n",
        "# 4.Lists have many more methods available for modifying the content.\n",
        "list1=[1,3,8,9,10]\n",
        "print(list1)"
      ],
      "metadata": {
        "colab": {
          "base_uri": "https://localhost:8080/"
        },
        "id": "_pGSJ2J_uaFx",
        "outputId": "049d960a-fe32-4d71-d77d-410565dc9ee4"
      },
      "execution_count": 18,
      "outputs": [
        {
          "output_type": "stream",
          "name": "stdout",
          "text": [
            "(1, 3, 4, 8, 0)\n",
            "[1, 3, 8, 9, 10]\n"
          ]
        }
      ]
    },
    {
      "cell_type": "code",
      "source": [
        "#Q.5 Describe the key feature of set and provide example of their use\n",
        "#ANS: Sets are a built-in data structure in Python that provide a collection of unique elements.\n",
        "# KEY FEATURES:\n",
        "# 1. Unordered collection : Sets do not maintain any order for the elements.\n",
        "set1 = {3, 1, 4, 2}\n",
        "print(set1)\n",
        "\n",
        "#2. Unique Elements: Sets stores only unique elements and remove duplicate elements if present\n",
        "set1={1,2,3,4,5,2,3}\n",
        "print(set1)\n",
        "\n",
        "#3. Sets do not support slicing and indexing because they are unordered\n",
        "\n",
        "#4.Mutable: Sets are mutable i.e can add or remove elements.\n",
        "set1={1,2,4,5,6}\n",
        "set1.add(3)\n",
        "print(set1)\n",
        "set1.remove(5)\n",
        "print(set1)\n",
        "\n",
        "#5.Sets support mathematical operations like union, intersection, difference, and symmetric difference.\n",
        "set1= {1,2,3,4}\n",
        "set2={3,4,5,6}\n",
        "print(set1 | set2) #union(combine elements from two sets excluding duplicates)\n",
        "print(set1 & set2) #intersection( only common elements between sets)\n",
        "print(set1-set2) #difference(returns the elements that is present in first set and not in second)\n",
        "print(set1^set2) # symmetric difference(returns all the elements other than common eleements)\n",
        "\n",
        "#6. We can check if an element exists in a set using memebership operator (in ,not in keyword )\n",
        "set1={1,2,4,5,6,8}\n",
        "6 in set1"
      ],
      "metadata": {
        "colab": {
          "base_uri": "https://localhost:8080/"
        },
        "id": "A0qb7Bl4v0zl",
        "outputId": "1fdd2417-001a-4f2b-e68b-54fd3e0bab9d"
      },
      "execution_count": 19,
      "outputs": [
        {
          "output_type": "stream",
          "name": "stdout",
          "text": [
            "{1, 2, 3, 4}\n",
            "{1, 2, 3, 4, 5}\n",
            "{1, 2, 3, 4, 5, 6}\n",
            "{1, 2, 3, 4, 6}\n",
            "{1, 2, 3, 4, 5, 6}\n",
            "{3, 4}\n",
            "{1, 2}\n",
            "{1, 2, 5, 6}\n"
          ]
        },
        {
          "output_type": "execute_result",
          "data": {
            "text/plain": [
              "True"
            ]
          },
          "metadata": {},
          "execution_count": 19
        }
      ]
    },
    {
      "cell_type": "code",
      "source": [
        "#Q.6 Discuss the use cases of tuples and sets in Python programming\n",
        "#ANS : TUPLES are used when\n",
        "#1.The data should not change (immutability).\n",
        "tup1=(1,3,4,8,0)\n",
        "print(tup1)\n",
        "#2. When we need to return multiple values from a function.\n",
        "def test(*args):\n",
        "    return args\n",
        "a=test(1,2,3,4)\n",
        "print(a)\n",
        "#3. When we want to ensure data integrity.\n",
        "#4.Tuples can be used as keys in dictionaries because they are immutable.\n",
        "dict1={(1,2,3):\"Data Science\",\n",
        "       \"Duration\":\"6 months\"}\n",
        "print(dict1)\n",
        "\n",
        "# SETS ar used when\n",
        "#1. When we need to store unique elements\n",
        "set1 = {3, 1, 4, 2}\n",
        "print(set1)\n",
        "#2. To remove duplicate elements automatically\n",
        "set1={1,2,3,4,5,2,3}\n",
        "print(set1)\n",
        "#3. to perform efficient membership testing\n",
        "set1={1,2,4,5,6,8}\n",
        "6 in set1\n",
        "#4. Also to peroform set operation\n",
        "set1= {1,2,3,4}\n",
        "set2={3,4,5,6}\n",
        "print(set1 | set2) #union(combine elements from two sets excluding duplicates)\n",
        "print(set1 & set2) #intersection( only common elements between sets)\n",
        "print(set1-set2) #difference(returns the elements that is present in first set and not in second)\n",
        "print(set1^set2) # symmetric difference(returns all the elements other than common eleements)"
      ],
      "metadata": {
        "colab": {
          "base_uri": "https://localhost:8080/"
        },
        "id": "9WZJsSMbymkf",
        "outputId": "4e8fd175-31f8-43e4-f042-c7a983f85f5d"
      },
      "execution_count": 27,
      "outputs": [
        {
          "output_type": "stream",
          "name": "stdout",
          "text": [
            "(1, 3, 4, 8, 0)\n",
            "(1, 2, 3, 4)\n",
            "{(1, 2, 3): 'Data Science', 'Duration': '6 months'}\n",
            "{1, 2, 3, 4}\n",
            "{1, 2, 3, 4, 5}\n",
            "{1, 2, 3, 4, 5, 6}\n",
            "{3, 4}\n",
            "{1, 2}\n",
            "{1, 2, 5, 6}\n"
          ]
        }
      ]
    },
    {
      "cell_type": "code",
      "source": [
        "#Q.7 Describe how to add ,modify and delete items in a dictionary with examples\n",
        "#ANS: # To add elements in a dictionary\n",
        "d= {\"name\":\"abc\",\"email\":\"abc17@gmail.com\",\"contact\":(9000012345)}\n",
        "d[\"address\"]=\"New Delhi\"\n",
        "print(d)\n",
        "\n",
        "# To modify element in a dictionary\n",
        "d= {\"name\":\"abc\",\"email\":\"abc17@gmail.com\",\"contact\":(9000012345),\"address\":\"New Delhi\"}\n",
        "d[\"contact\"]=9876543210\n",
        "print(d)\n",
        "\n",
        "# To delete element in a dictionary\n",
        "# using del keyword\n",
        "d= {\"name\":\"abc\",\"email\":\"abc17@gmail.com\",\"contact\":(9000012345),\"address\":\"New Delhi\"}\n",
        "del d[\"address\"]\n",
        "print(d)"
      ],
      "metadata": {
        "colab": {
          "base_uri": "https://localhost:8080/"
        },
        "id": "xBln_hH93JIv",
        "outputId": "d23f4625-5aa1-42eb-9756-2cdc282183d3"
      },
      "execution_count": 35,
      "outputs": [
        {
          "output_type": "stream",
          "name": "stdout",
          "text": [
            "{'name': 'abc', 'email': 'abc17@gmail.com', 'contact': 9000012345, 'address': 'New Delhi'}\n",
            "{'name': 'abc', 'email': 'abc17@gmail.com', 'contact': 9876543210, 'address': 'New Delhi'}\n",
            "{'name': 'abc', 'email': 'abc17@gmail.com', 'contact': 9000012345}\n"
          ]
        }
      ]
    },
    {
      "cell_type": "code",
      "source": [
        "#Q.8 Discuss the importance of dictionary keys being immutable and provide example\n",
        "#ANS: In Python, dictionary keys are immutable\n",
        "#1. To ensures the integrity of the dictionary data structure.This uses the concept of hashing.\n",
        "#For an object to be hashable, it must have a constant hash value during its lifetime. Immutable objects like strings, numbers, and tuple meet this criterion because their values cannot change once they are created.\n",
        "#2. Ensuring keys are immutable guarantees that the key-value mapping remains consistent and reliable throughout the dictionary's lifetime.\n",
        "#3. Example:d= {[1,2,3]=\"abc\",\"email\":\"abc17@gmail.com\",\"contact\":(9000012345),\"address\":\"New Delhi\"} Here we took ,list as key which is mutable so it will through an error unhasable type:list\n",
        "d= {\"name\":\"abc\",\"email\":\"abc17@gmail.com\",\"contact\":(9000012345),\"address\":\"New Delhi\"} # since all the keys are immutable it will not through any error\n",
        "print(d)\n",
        "\n"
      ],
      "metadata": {
        "colab": {
          "base_uri": "https://localhost:8080/"
        },
        "id": "yX9T4_3849VL",
        "outputId": "18d76c8c-57df-4d10-e590-59f20071dc75"
      },
      "execution_count": 38,
      "outputs": [
        {
          "output_type": "stream",
          "name": "stdout",
          "text": [
            "{'name': 'abc', 'email': 'abc17@gmail.com', 'contact': 9000012345, 'address': 'New Delhi'}\n"
          ]
        }
      ]
    }
  ]
}